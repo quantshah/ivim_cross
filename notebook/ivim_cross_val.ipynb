{
 "cells": [
  {
   "cell_type": "markdown",
   "metadata": {},
   "source": [
    "# Cross validation of the Intravoxel incoherent motion (ivim) model in Dipy\n",
    "\n",
    "Models need to have a `fit` and `predict` method defined.\n",
    "\n",
    "## Ivim model\n",
    "\n",
    "The IVIM model expresses the MRI signal as follows:\n",
    "\n",
    "$$ S(b)=S_0(fe^{-bD^*}+(1-f)e^{-bD}) $$\n",
    "\n",
    "where $\\mathbf{b}$ is the diffusion gradient weighing value (which is dependent on the measurement parameters), $\\mathbf{S_{0}}$ is the signal in the absence of diffusion gradient sensitization, $\\mathbf{f}$ is the perfusion fraction, $\\mathbf{D}$ is the diffusion coefficient and $\\mathbf{D^*}$ is the pseudo-diffusion constant, due to vascular contributions.\n",
    "\n",
    "We want to compare the performace of this model with other models such as a simple exponential decay.\n",
    "\n",
    "The signal is recorded for many `b-values` at each point (voxel). Thus we have an array of signal values S(b) for each voxel. After we fit the data from each voxel and get the model parameters we would like to see how well the predictions match with the actual values. We will split our dataset to perform \"leave-one-out cross validation\" or \"n-cross validation\" on b-values. We leave out one b value and fit our model. Then we predict the values of the volume at the left out b value."
   ]
  },
  {
   "cell_type": "code",
   "execution_count": 1,
   "metadata": {
    "collapsed": true
   },
   "outputs": [],
   "source": [
    "import numpy as np\n",
    "\n",
    "from dipy.reconst.ivim import IvimModel\n",
    "from dipy.data.fetcher import read_ivim\n",
    "import dipy.core.gradients as dpg\n",
    "from dipy.reconst.base import ReconstModel\n",
    "from dipy.reconst.multi_voxel import multi_voxel_fit\n",
    "\n",
    "from cv import *\n",
    "import csv   \n",
    "\n",
    "\n",
    "import matplotlib.pyplot as plt\n",
    "% matplotlib inline"
   ]
  },
  {
   "cell_type": "markdown",
   "metadata": {},
   "source": [
    "# Downloading the data and selecting a small slice for testing\n",
    "\n",
    "The dataset supplied here is from Eric Peterson [share](https://figshare.com/articles/IVIM_dataset/3395704). It has MRI signal data for a 3D region (brain) where each voxel will have its own parameters (S0, f, D and D_star). Dipy has a `fetcher` to download the ivim data."
   ]
  },
  {
   "cell_type": "code",
   "execution_count": 2,
   "metadata": {
    "collapsed": false
   },
   "outputs": [
    {
     "name": "stdout",
     "output_type": "stream",
     "text": [
      "Dataset is already in place. If you want to fetch it again please first remove the folder /Users/shahnawaz/.dipy/ivim \n",
      "data.shape (256, 256, 54, 21)\n"
     ]
    }
   ],
   "source": [
    "img, gtab = read_ivim()\n",
    "data = img.get_data()\n",
    "\n",
    "print('data.shape (%d, %d, %d, %d)' % data.shape)"
   ]
  },
  {
   "cell_type": "code",
   "execution_count": 3,
   "metadata": {
    "collapsed": true
   },
   "outputs": [],
   "source": [
    "z = 33\n",
    "x1, x2 = 90, 150\n",
    "y1, y2 = 90, 180"
   ]
  },
  {
   "cell_type": "code",
   "execution_count": 4,
   "metadata": {
    "collapsed": false
   },
   "outputs": [
    {
     "data": {
      "image/png": "[encoded data removed]",
      "text/plain": [
       "<matplotlib.figure.Figure at 0x1140073c8>"
      ]
     },
     "metadata": {},
     "output_type": "display_data"
    }
   ],
   "source": [
    "# Plot at b=0\n",
    "b_val = 0\n",
    "plt.imshow(data[x1:x2, y1:y2, z, b_val].T, origin='lower',\n",
    "           cmap=\"gray\", interpolation='nearest')\n",
    "plt.show(\"CSF_slice.png\")\n",
    "plt.close()"
   ]
  },
  {
   "cell_type": "markdown",
   "metadata": {},
   "source": [
    "# Define an error metric (nmse)"
   ]
  },
  {
   "cell_type": "code",
   "execution_count": 68,
   "metadata": {
    "collapsed": false
   },
   "outputs": [],
   "source": [
    "def nmse(data, prediction):\n",
    "    \"\"\"\n",
    "    Compute the normalized mean squared error.\n",
    "    \"\"\"\n",
    "    return (((data - prediction)**2).mean())/sum(data**2)\n",
    "\n",
    "def leave_one_cross(model, data_slice, gtab):\n",
    "    \"\"\"\n",
    "    Performs a leave one out cross validation and returns the prediction and normalised mean sq error\n",
    "    \"\"\"\n",
    "    # Preallocate an array for the results:\n",
    "    predictions = np.zeros([data_slice.shape[0], \n",
    "                            data_slice.shape[1],\n",
    "                            data_slice.shape[2],\n",
    "                            data_slice.shape[3] - 1])\n",
    "\n",
    "    # Normalized mean sq error\n",
    "    NMSE = []\n",
    "    # Note that we are not predicting S0, because we always need S0 to fit the model\n",
    "\n",
    "    for left_out in range(1, data_slice.shape[-1]-1):\n",
    "        # These are the b-values/b-vectors with one of them left out:\n",
    "        left_out_bvals = np.concatenate([gtab.bvals[:left_out], gtab.bvals[left_out+1:]])\n",
    "        left_out_bvecs = np.concatenate([gtab.bvecs[:left_out], gtab.bvecs[left_out+1:]])\n",
    "        left_out_gtab = dpg.gradient_table(left_out_bvals, left_out_bvecs)\n",
    "        # Create a model for this iteration\n",
    "        current_model = model(left_out_gtab)\n",
    "        # We fit to the data leaving out the current measurement\n",
    "        left_out_data = np.concatenate([data_slice[..., :left_out], \n",
    "                                        data_slice[..., left_out+1:]], -1)\n",
    "        fit = current_model.fit(left_out_data)\n",
    "        # We try to predict only the left out measurement\n",
    "        predict_gtab = dpg.gradient_table(np.array([gtab.bvals[left_out]]), \n",
    "                                          np.array([gtab.bvecs[left_out]]))\n",
    "        left_predictions = fit.predict(predict_gtab)\n",
    "        predictions[..., left_out] = left_predictions[..., 0]\n",
    "        err = nmse(left_predictions.squeeze().ravel(), data_slice[..., left_out].squeeze().ravel())\n",
    "        NMSE += [err]\n",
    "        \n",
    "\n",
    "    return (predictions, np.array(NMSE))\n",
    "\n",
    "# max values for each dim\n",
    "x, y, z, bval = data.shape\n",
    "vol_size = 1\n",
    "# Select random volumes for cross validation"
   ]
  },
  {
   "cell_type": "code",
   "execution_count": 69,
   "metadata": {
    "collapsed": false
   },
   "outputs": [
    {
     "name": "stderr",
     "output_type": "stream",
     "text": [
      "/Users/shahnawaz/dev/dipy/dipy/reconst/ivim.py:404: UserWarning: x0 obtained from linear fitting is not feasibile as initial guess for leastsq while estimating f and D_star. Using parameters from the linear fit.\n",
      "  warnings.warn(warningMsg, UserWarning)\n",
      "/Users/shahnawaz/dev/dipy/dipy/reconst/ivim.py:498: UserWarning: x0 is unfeasible for leastsq fitting. Returning x0 values from the linear fit.\n",
      "  warnings.warn(warningMsg, UserWarning)\n",
      "/Users/shahnawaz/dev/dipy/dipy/reconst/ivim.py:293: UserWarning: Bounds are violated for leastsq fitting. Returning parameters from linear fit\n",
      "  warnings.warn(warningMsg, UserWarning)\n"
     ]
    }
   ],
   "source": [
    "for i in range(1):\n",
    "    x1, y1, z1 = [np.random.randint(foo) for foo in [x-vol_size, y - vol_size, z- vol_size]]\n",
    "    x2, y2, z2 = x1 + vol_size, y2 + vol_size, z1+ vol_size\n",
    "\n",
    "    data_slice = data[x1:x2, y1:y2, z1:z2, :]\n",
    "    ivim_predictions, ivim_nmse = leave_one_cross(IvimModel, data_slice, gtab)\n",
    "\n",
    "    out = [x1, y1, z1]\n",
    "    out.append(ivim_nmse.mean())\n",
    "    \n",
    "#     nmse_flat = ivim_nmse.ravel()\n",
    "#     for x in nmse_flat:\n",
    "#         out.append(x)\n",
    "\n",
    "    with open('ivim'+'.csv', 'a') as f:\n",
    "        writer = csv.writer(f)\n",
    "        writer.writerow(out)\n",
    "    \n",
    "    exp_predictions, exp_nmse = leave_one_cross(ExponentialModel, data_slice, gtab)\n",
    "    out = [x1, y1, z1]\n",
    "    out.append(exp_nmse.mean())\n",
    "\n",
    "    with open('exp'+'.csv', 'a') as f:\n",
    "        writer = csv.writer(f)\n",
    "        writer.writerow(out)"
   ]
  },
  {
   "cell_type": "markdown",
   "metadata": {},
   "source": [
    "# Making your own estimator\n",
    "\n",
    "We used the `IvimModel` for cross validation and will build our custom models to check if it performs better. Let us build a simple estimator which predicts parameters for an exponential decay model.\n",
    "\n",
    "$$ y = S_{0} e^{-D x}$$\n",
    "\n",
    "In the file `cv.py` we have the `ExponentialModel` to do this comparision."
   ]
  }
 ],
 "metadata": {
  "anaconda-cloud": {},
  "kernelspec": {
   "display_name": "Python [conda root]",
   "language": "python",
   "name": "conda-root-py"
  },
  "language_info": {
   "codemirror_mode": {
    "name": "ipython",
    "version": 3
   },
   "file_extension": ".py",
   "mimetype": "text/x-python",
   "name": "python",
   "nbconvert_exporter": "python",
   "pygments_lexer": "ipython3",
   "version": "3.5.2"
  }
 },
 "nbformat": 4,
 "nbformat_minor": 1
}
