{
 "cells": [
  {
   "cell_type": "code",
   "execution_count": 1,
   "metadata": {
    "collapsed": true
   },
   "outputs": [],
   "source": [
    "import numpy as np\n",
    "from dipy.reconst.ivim import IvimModel\n",
    "from dipy.data.fetcher import read_ivim\n",
    "import dipy.core.gradients as dpg\n",
    "import matplotlib.pyplot as plt\n",
    "\n",
    "from dipy.reconst.base import ReconstModel\n",
    "from dipy.reconst.multi_voxel import multi_voxel_fit\n",
    "\n",
    "% matplotlib inline"
   ]
  },
  {
   "cell_type": "code",
   "execution_count": 2,
   "metadata": {
    "collapsed": false
   },
   "outputs": [
    {
     "name": "stdout",
     "output_type": "stream",
     "text": [
      "Dataset is already in place. If you want to fetch it again please first remove the folder /Users/shahnawaz/.dipy/ivim \n",
      "data.shape (256, 256, 54, 21)\n"
     ]
    }
   ],
   "source": [
    "img, gtab = read_ivim()\n",
    "data = img.get_data()\n",
    "\n",
    "print('data.shape (%d, %d, %d, %d)' % data.shape)"
   ]
  },
  {
   "cell_type": "code",
   "execution_count": 3,
   "metadata": {
    "collapsed": true
   },
   "outputs": [],
   "source": [
    "z = 33\n",
    "x1, x2 = 90, 150\n",
    "y1, y2 = 90, 180"
   ]
  },
  {
   "cell_type": "code",
   "execution_count": 4,
   "metadata": {
    "collapsed": false
   },
   "outputs": [
    {
     "data": {
      "image/png": "[encoded data removed]",
      "text/plain": [
       "<matplotlib.figure.Figure at 0x11400ec88>"
      ]
     },
     "metadata": {},
     "output_type": "display_data"
    }
   ],
   "source": [
    "# Plot at b=0\n",
    "b_val = 0\n",
    "plt.imshow(data[x1:x2, y1:y2, z, b_val].T, origin='lower',\n",
    "           cmap=\"gray\", interpolation='nearest')\n",
    "plt.show(\"CSF_slice.png\")\n",
    "plt.close()"
   ]
  },
  {
   "cell_type": "code",
   "execution_count": 5,
   "metadata": {
    "collapsed": true
   },
   "outputs": [],
   "source": [
    "# We'll look at a 2-by-2-by-2 cube\n",
    "data_slice = data[90:92, 90:92, 33:35, :]"
   ]
  },
  {
   "cell_type": "code",
   "execution_count": 6,
   "metadata": {
    "collapsed": false
   },
   "outputs": [
    {
     "data": {
      "text/plain": [
       "(21, 3)"
      ]
     },
     "execution_count": 6,
     "metadata": {},
     "output_type": "execute_result"
    }
   ],
   "source": [
    "gtab.bvecs.shape"
   ]
  },
  {
   "cell_type": "code",
   "execution_count": 7,
   "metadata": {
    "collapsed": false
   },
   "outputs": [
    {
     "data": {
      "text/plain": [
       "(2, 2, 2, 21)"
      ]
     },
     "execution_count": 7,
     "metadata": {},
     "output_type": "execute_result"
    }
   ],
   "source": [
    "data_slice.shape"
   ]
  },
  {
   "cell_type": "code",
   "execution_count": 8,
   "metadata": {
    "collapsed": true
   },
   "outputs": [],
   "source": [
    "def nmse(data, prediction):\n",
    "    \"\"\"\n",
    "    Compute the normalized mean squared error.\n",
    "    \"\"\"\n",
    "    return (((data - prediction)**2).mean())/sum(data**2)"
   ]
  },
  {
   "cell_type": "code",
   "execution_count": 9,
   "metadata": {
    "collapsed": false
   },
   "outputs": [],
   "source": [
    "def leave_one_cross(model, data, data_slice, gtab):\n",
    "    \"\"\"\n",
    "    Performs a leave one out cross validation and returns the prediction and normalised mean sq error\n",
    "    \"\"\"\n",
    "    # Preallocate an array for the results:\n",
    "    predictions = np.zeros([data_slice.shape[0], \n",
    "                            data_slice.shape[1],\n",
    "                            data_slice.shape[2],\n",
    "                            data_slice.shape[3] - 1])\n",
    "\n",
    "    # Normalized mean sq error\n",
    "    NMSE = []\n",
    "    # Note that we are not predicting S0, because we always need S0 to fit the model\n",
    "\n",
    "    for left_out in range(1, data.shape[-1]-1):\n",
    "        # These are the b-values/b-vectors with one of them left out:\n",
    "        left_out_bvals = np.concatenate([gtab.bvals[:left_out], gtab.bvals[left_out+1:]])\n",
    "        left_out_bvecs = np.concatenate([gtab.bvecs[:left_out], gtab.bvecs[left_out+1:]])\n",
    "        left_out_gtab = dpg.gradient_table(left_out_bvals, left_out_bvecs)\n",
    "        # Create a model for this iteration\n",
    "        current_model = model(left_out_gtab)\n",
    "        # We fit to the data leaving out the current measurement\n",
    "        left_out_data = np.concatenate([data_slice[..., :left_out], \n",
    "                                        data_slice[..., left_out+1:]], -1)\n",
    "        fit = current_model.fit(left_out_data)\n",
    "        # We try to predict only the left out measurement\n",
    "        predict_gtab = dpg.gradient_table(np.array([gtab.bvals[left_out]]), \n",
    "                                          np.array([gtab.bvecs[left_out]]))\n",
    "        predictions[..., left_out] = fit.predict(predict_gtab, S0=data_slice[..., 0]).squeeze()\n",
    "        err = nmse(predictions[..., left_out].ravel(), data_slice[..., left_out].ravel())\n",
    "\n",
    "        NMSE += [err]\n",
    "    return (predictions, np.array(NMSE))"
   ]
  },
  {
   "cell_type": "code",
   "execution_count": 10,
   "metadata": {
    "collapsed": false
   },
   "outputs": [
    {
     "name": "stdout",
     "output_type": "stream",
     "text": [
      "[  3.63755063e-05   1.67682023e-05   4.36967951e-05   2.25478399e-05\n",
      "   8.03281451e-05   6.64135636e-05   5.63040222e-05   1.30920499e-04\n",
      "   1.61843183e-05   2.86534074e-05   9.41812937e-05   3.41098305e-05\n",
      "   7.74138203e-05   4.73957959e-04   1.97309603e-04   8.21625160e-05\n",
      "   1.62972001e-05   1.73980449e-04   1.22268685e-05]\n"
     ]
    }
   ],
   "source": [
    "ivim_predictions, ivim_nmse = leave_one_cross(IvimModel, data, data_slice, gtab)\n",
    "print(ivim_nmse)"
   ]
  },
  {
   "cell_type": "code",
   "execution_count": 11,
   "metadata": {
    "collapsed": true
   },
   "outputs": [],
   "source": [
    "def exponential_prediction(params, gtab, S0 = 1.):\n",
    "    \"\"\"\n",
    "    Prediction using exponential decay model.\n",
    "    \"\"\"\n",
    "    b = gtab.bvals\n",
    "    return params[0] * np.exp(- b * params[1])\n",
    "\n",
    "\n",
    "class ExponentialModel(ReconstModel):\n",
    "    \"\"\"\n",
    "    An exponential decay model.\n",
    "    \"\"\"\n",
    "    def __init__(self, gtab=None):\n",
    "        self.gtab = gtab\n",
    "        \n",
    "    @multi_voxel_fit\n",
    "    def fit(self, data, mask=None):\n",
    "        \"\"\" Fit method\n",
    "        Parameters\n",
    "        ----------\n",
    "        data : array\n",
    "            The measured signal from one voxel. A multi voxel decorator\n",
    "            will be applied to this fit method to scale it and apply it\n",
    "            to multiple voxels.\n",
    "        mask : array\n",
    "            A boolean array used to mark the coordinates in the data that\n",
    "            should be analyzed that has the shape data.shape[:-1]\n",
    "\n",
    "        Returns\n",
    "        -------\n",
    "        ExponentialFit object\n",
    "        \"\"\"\n",
    "        # Get S0_prime and D - paramters assuming a single exponential decay\n",
    "        D, neg_log_S0 = np.polyfit(self.gtab.bvals, -np.log(data), 1)\n",
    "        S0 = np.exp(-neg_log_S0)\n",
    "        params_linear = np.array([S0, D])\n",
    "        \n",
    "        return ExponentialFit(self, params_linear)\n",
    "        \n",
    "    def predict(self, linear_params, gtab, S0=1.):\n",
    "        \"\"\"\n",
    "        Predict the values of the signal.\n",
    "        \"\"\"\n",
    "        return exponential_prediction(ivim_params, gtab)\n",
    "\n",
    "class ExponentialFit(object):\n",
    "\n",
    "    def __init__(self, model, model_params):\n",
    "        \"\"\" Initialize a LinearFit class instance.\n",
    "        \"\"\"\n",
    "        self.model = model\n",
    "        self.model_params = model_params\n",
    "\n",
    "    def __getitem__(self, index):\n",
    "        model_params = self.model_params\n",
    "        N = model_params.ndim\n",
    "        if type(index) is not tuple:\n",
    "            index = (index,)\n",
    "        elif len(index) >= model_params.ndim:\n",
    "            raise IndexError(\"IndexError: invalid index\")\n",
    "        index = index + (slice(None),) * (N - len(index))\n",
    "        return type(self)(self.model, model_params[index])\n",
    "\n",
    "    @property\n",
    "    def S0_predicted(self):\n",
    "        return self.model_params[..., 0]\n",
    "\n",
    "    @property\n",
    "    def D(self):\n",
    "        return self.model_params[..., 1]\n",
    "\n",
    "    def predict(self, gtab, S0=1.):\n",
    "        \"\"\"Given a model fit, predict the signal.\n",
    "\n",
    "        Parameters\n",
    "        ----------\n",
    "        gtab : GradientTable class instance\n",
    "               Gradient directions and bvalues\n",
    "\n",
    "        S0 : float\n",
    "            S0 value here is not necessary and will not be used to predict the\n",
    "            signal. It has been added to conform to the structure of the\n",
    "            predict method in multi_voxel which requires a keyword argument S0.\n",
    "\n",
    "        Returns\n",
    "        -------\n",
    "        signal : array\n",
    "            The signal values predicted for this model using its parameters.\n",
    "        \"\"\"\n",
    "        return exponential_prediction(self.model_params, gtab)"
   ]
  },
  {
   "cell_type": "code",
   "execution_count": 12,
   "metadata": {
    "collapsed": true
   },
   "outputs": [],
   "source": [
    "exp_predictions, exp_nmse = leave_one_cross(ExponentialModel, data, data_slice, gtab)"
   ]
  },
  {
   "cell_type": "code",
   "execution_count": 13,
   "metadata": {
    "collapsed": false
   },
   "outputs": [
    {
     "data": {
      "text/plain": [
       "[<matplotlib.lines.Line2D at 0x113f849e8>]"
      ]
     },
     "execution_count": 13,
     "metadata": {},
     "output_type": "execute_result"
    },
    {
     "data": {
      "image/png": "[encoded data removed]",
      "text/plain": [
       "<matplotlib.figure.Figure at 0x127f9aba8>"
      ]
     },
     "metadata": {},
     "output_type": "display_data"
    }
   ],
   "source": [
    "# Compare the predictions to the actual data:\n",
    "plt.plot(data_slice[..., 1:].ravel(), exp_predictions.ravel(), 'o')\n",
    "plt.plot([0, 6000], [0, 6000], 'k--')\n",
    "\n",
    "plt.plot(data_slice[..., 1:].ravel(), ivim_predictions.ravel(), 'o')\n",
    "plt.plot([0, 6000], [0, 6000], 'k--')"
   ]
  },
  {
   "cell_type": "code",
   "execution_count": 14,
   "metadata": {
    "collapsed": false
   },
   "outputs": [
    {
     "name": "stdout",
     "output_type": "stream",
     "text": [
      "Mean NMSE for IVIM:  8.73595704886e-05\n",
      "Mean NMSE for exponential decay model: 0.000118121220667\n"
     ]
    }
   ],
   "source": [
    "print(\"Mean NMSE for IVIM: \", ivim_nmse.mean())\n",
    "print(\"Mean NMSE for exponential decay model:\", exp_nmse.mean())"
   ]
  }
 ],
 "metadata": {
  "anaconda-cloud": {},
  "kernelspec": {
   "display_name": "Python [default]",
   "language": "python",
   "name": "python3"
  },
  "language_info": {
   "codemirror_mode": {
    "name": "ipython",
    "version": 3
   },
   "file_extension": ".py",
   "mimetype": "text/x-python",
   "name": "python",
   "nbconvert_exporter": "python",
   "pygments_lexer": "ipython3",
   "version": "3.5.2"
  }
 },
 "nbformat": 4,
 "nbformat_minor": 1
}
