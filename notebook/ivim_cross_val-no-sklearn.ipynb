{
 "cells": [
  {
   "cell_type": "code",
   "execution_count": 1,
   "metadata": {
    "collapsed": true
   },
   "outputs": [],
   "source": [
    "import numpy as np\n",
    "from dipy.reconst.ivim import IvimModel\n",
    "from dipy.data.fetcher import read_ivim\n",
    "import dipy.core.gradients as dpg\n",
    "import matplotlib.pyplot as plt\n",
    "% matplotlib inline"
   ]
  },
  {
   "cell_type": "code",
   "execution_count": 2,
   "metadata": {
    "collapsed": false
   },
   "outputs": [
    {
     "name": "stdout",
     "output_type": "stream",
     "text": [
      "Dataset is already in place. If you want to fetch it again please first remove the folder /Users/arokem/.dipy/ivim \n",
      "data.shape (256, 256, 54, 21)\n"
     ]
    }
   ],
   "source": [
    "img, gtab = read_ivim()\n",
    "data = img.get_data()\n",
    "\n",
    "print('data.shape (%d, %d, %d, %d)' % data.shape)"
   ]
  },
  {
   "cell_type": "code",
   "execution_count": 3,
   "metadata": {
    "collapsed": true
   },
   "outputs": [],
   "source": [
    "z = 33\n",
    "x1, x2 = 90, 150\n",
    "y1, y2 = 90, 180"
   ]
  },
  {
   "cell_type": "code",
   "execution_count": 4,
   "metadata": {
    "collapsed": false
   },
   "outputs": [
    {
     "data": {
      "image/png": "[encoded data removed]",
      "text/plain": [
       "<matplotlib.figure.Figure at 0x11e878208>"
      ]
     },
     "metadata": {},
     "output_type": "display_data"
    }
   ],
   "source": [
    "# Plot at b=0\n",
    "b_val = 0\n",
    "plt.imshow(data[x1:x2, y1:y2, z, b_val].T, origin='lower',\n",
    "           cmap=\"gray\", interpolation='nearest')\n",
    "plt.show(\"CSF_slice.png\")\n",
    "plt.close()"
   ]
  },
  {
   "cell_type": "code",
   "execution_count": 26,
   "metadata": {
    "collapsed": true
   },
   "outputs": [],
   "source": [
    "# We'll look at a 2-by-2-by-2 cube\n",
    "data_slice = data[90:92, 90:92, 33:35, :]"
   ]
  },
  {
   "cell_type": "code",
   "execution_count": 27,
   "metadata": {
    "collapsed": false
   },
   "outputs": [
    {
     "data": {
      "text/plain": [
       "(21, 3)"
      ]
     },
     "execution_count": 27,
     "metadata": {},
     "output_type": "execute_result"
    }
   ],
   "source": [
    "gtab.bvecs.shape"
   ]
  },
  {
   "cell_type": "code",
   "execution_count": 28,
   "metadata": {
    "collapsed": false
   },
   "outputs": [
    {
     "data": {
      "text/plain": [
       "(2, 2, 2, 21)"
      ]
     },
     "execution_count": 28,
     "metadata": {},
     "output_type": "execute_result"
    }
   ],
   "source": [
    "data_slice.shape"
   ]
  },
  {
   "cell_type": "code",
   "execution_count": 43,
   "metadata": {
    "collapsed": false
   },
   "outputs": [],
   "source": [
    "# Preallocate an array for the results:\n",
    "\n",
    "predictions = np.zeros([data_slice.shape[0], \n",
    "                        data_slice.shape[1],\n",
    "                        data_slice.shape[2],\n",
    "                        data_slice.shape[3] - 1])\n",
    "\n",
    "# Note that we are not predicting S0, because we always need S0 to fit the model\n",
    "\n",
    "for left_out in range(1, data.shape[-1]-1):\n",
    "    # These are the b-values/b-vectors with one of them left out:\n",
    "    left_out_bvals = np.concatenate([gtab.bvals[:left_out], gtab.bvals[left_out+1:]])\n",
    "    left_out_bvecs = np.concatenate([gtab.bvecs[:left_out], gtab.bvecs[left_out+1:]])\n",
    "    left_out_gtab = dpg.gradient_table(left_out_bvals, left_out_bvecs)\n",
    "    # Create a model for this iteration\n",
    "    ivim_model = IvimModel(left_out_gtab)\n",
    "    # We fit to the data leaving out the current measurement\n",
    "    left_out_data = np.concatenate([data_slice[..., :left_out], \n",
    "                                    data_slice[..., left_out+1:]], -1)\n",
    "    ivim_fit = ivim_model.fit(left_out_data)\n",
    "    # We try to predict only the left out measurement\n",
    "    predict_gtab = dpg.gradient_table(np.array([gtab.bvals[left_out]]), \n",
    "                                      np.array([gtab.bvecs[left_out]]))\n",
    "    predictions[..., left_out] = ivim_fit.predict(predict_gtab, S0=data_slice[..., 0]).squeeze()"
   ]
  },
  {
   "cell_type": "code",
   "execution_count": 45,
   "metadata": {
    "collapsed": false
   },
   "outputs": [
    {
     "data": {
      "text/plain": [
       "[<matplotlib.lines.Line2D at 0x11ec47470>]"
      ]
     },
     "execution_count": 45,
     "metadata": {},
     "output_type": "execute_result"
    },
    {
     "data": {
      "image/png": "[encoded data removed]",
      "text/plain": [
       "<matplotlib.figure.Figure at 0x11ebdb7b8>"
      ]
     },
     "metadata": {},
     "output_type": "display_data"
    }
   ],
   "source": [
    "# Compare the predictions to the actual data:\n",
    "plt.plot(data_slice[..., 1:].ravel(), predictions.ravel(), 'o')\n",
    "plt.plot([0, 6000], [0, 6000], 'k--')"
   ]
  },
  {
   "cell_type": "code",
   "execution_count": null,
   "metadata": {
    "collapsed": true
   },
   "outputs": [],
   "source": []
  }
 ],
 "metadata": {
  "anaconda-cloud": {},
  "kernelspec": {
   "display_name": "Python 3",
   "language": "python",
   "name": "python3"
  },
  "language_info": {
   "codemirror_mode": {
    "name": "ipython",
    "version": 3
   },
   "file_extension": ".py",
   "mimetype": "text/x-python",
   "name": "python",
   "nbconvert_exporter": "python",
   "pygments_lexer": "ipython3",
   "version": "3.5.1"
  }
 },
 "nbformat": 4,
 "nbformat_minor": 1
}
